{
  "cells": [
    {
      "cell_type": "markdown",
      "metadata": {
        "id": "MqOD5H-PmWv-"
      },
      "source": [
        "# **JSON Introduction**\n"
      ]
    },
    {
      "cell_type": "markdown",
      "metadata": {
        "id": "NIsaK7XomWwA"
      },
      "source": [
        "## A brief introduction to JSON the data format"
      ]
    },
    {
      "cell_type": "markdown",
      "metadata": {
        "id": "iNwJIaYCmWwA"
      },
      "source": [
        "The JSON library is shipped with Python and enables you to both encode and decode JSON.  \n",
        "  \n",
        "  \n",
        "To import the library type the following `import json` statement and note that `json` is in lowercase."
      ]
    },
    {
      "cell_type": "code",
      "execution_count": null,
      "metadata": {
        "id": "9aDtDJC7mWwA"
      },
      "outputs": [],
      "source": [
        "# importing the JSON library\n",
        "\n",
        "import json"
      ]
    },
    {
      "cell_type": "markdown",
      "metadata": {
        "id": "kwSjwNV_mWwB"
      },
      "source": [
        "## **The JSON data structure**\n"
      ]
    },
    {
      "cell_type": "markdown",
      "metadata": {
        "id": "YgqV8NjqmWwB"
      },
      "source": [
        "**JSON is built on two structures:**\n",
        "\n",
        "(1) A collection of ***key - value pairs***. In Python you'll recognise this as a ***dictionary*** data type.  \n",
        "\n",
        "(2) An ordered list of ***values***. In Python you'll recognise this as a ***list*** data type.  \n"
      ]
    },
    {
      "cell_type": "markdown",
      "metadata": {
        "id": "o-etVytSmWwC"
      },
      "source": [
        "## **JSON Syntax**\n",
        "An ***JSON object*** is an unordered set of ***key-value*** pairs.   \n",
        "\n",
        "Each JSON object is contained within `{}`. Namely, it begins with a left brace and ends with a right brace.    \n",
        "\n",
        "Each ***key*** (or ***name***) is followed by `:` a colon and then the ***value***.  \n",
        "\n",
        "Many key-value pairs may be included in a JSON object with each separated by a `,` comma.\n",
        "\n",
        "And as you can see, unlike binary, or hexadecimal, JSON is human readable.  \n",
        "\n",
        "## **JSON as Serialised Data**\n",
        "\n",
        "JSON objects are typically ***serialised*** into a string to be able to be communicated across a network. You can see this in the example below where the JSON object is inside the single quotes that define a Python string (i.e. '{...}.    \n",
        "\n",
        "This allows each character in the JSON string (each character being one byte) to be transmitted across a network, and the process can be reversed when the information is received and the string (sequence of characters) can then be converted back into a JSON object.\n",
        "\n"
      ]
    },
    {
      "cell_type": "code",
      "execution_count": null,
      "metadata": {
        "id": "x9NrrDTvmWwC"
      },
      "outputs": [],
      "source": [
        "# Example JSON data\n",
        "json_data_string = '{ \"name\": \"Zaara\", \"social_media\": \"Instagram\",\"followers\": 2500 }'\n",
        "\n",
        "# Here you can see the key-value pairs within the string of JSON data (inside the single quotes)\n",
        "# They include data for the person's name as the key and Zaara as the value\n",
        "# social_media as the key indicating their social media account and Instagram as the value\n",
        "# and followers as the key and 2500 as the value (note that unlike the previous key-value pairs the value here is an integer and not a string)"
      ]
    },
    {
      "cell_type": "markdown",
      "metadata": {
        "id": "Yhxyqs-vmWwD"
      },
      "source": [
        "## **JSON Key-Value Pairs**\n",
        "\n",
        "As demonstrated in the example above a ***key is always a string**  \n",
        "And a **value can be a string, number, boolean, expression, list or object***  \n"
      ]
    },
    {
      "cell_type": "code",
      "execution_count": null,
      "metadata": {
        "id": "8Am5-x5vmWwD"
      },
      "outputs": [],
      "source": [
        "# Another JSON data example\n",
        "# This example includes lists as values\n",
        "json_data_string_2 = '{ \"name\": \"Benji\", \"social_media\": [\"Instagram\", \"Facebook\"],\"followers\": [400, 1900]}'\n"
      ]
    },
    {
      "cell_type": "markdown",
      "metadata": {
        "id": "FkCXi2Q0mWwD"
      },
      "source": [
        "## **Decoding (Parsing) JSON Data**"
      ]
    },
    {
      "cell_type": "markdown",
      "metadata": {
        "id": "P8RD9-WAmWwE"
      },
      "source": [
        "When you ***parse*** JSON data you are ***decoding*** it so that you can extract the information from its data structure often to mainpulate it in some way."
      ]
    },
    {
      "cell_type": "code",
      "execution_count": null,
      "metadata": {
        "id": "-DJT5UiYmWwE"
      },
      "outputs": [],
      "source": [
        "# create a variable to store the parsed data, and load the data via the `json.loads()` function avaivke in the `json` library\n",
        "\n",
        "influencer_01 = json.loads(json_data_string)"
      ]
    },
    {
      "cell_type": "code",
      "execution_count": null,
      "metadata": {
        "id": "9duPkNnvmWwE"
      },
      "outputs": [],
      "source": [
        "# now print the parsed data to the console\n",
        "# let's just print the name\n",
        "print(influencer_01[\"name\"])"
      ]
    },
    {
      "cell_type": "code",
      "execution_count": null,
      "metadata": {
        "id": "DRQoIg9rmWwF"
      },
      "outputs": [],
      "source": [
        "# now lets provide a more comprehensive output\n",
        "print(influencer_01[\"name\"], \"is active on\", influencer_01['social_media'], \"and has\", influencer_01[\"followers\"], \"followers.\")"
      ]
    },
    {
      "cell_type": "code",
      "execution_count": null,
      "metadata": {
        "id": "MEauvXoimWwF"
      },
      "outputs": [],
      "source": [
        "# you can also demonstrate that the influencer_01 where we stored our JSON data is indeed a dictionary by checking its type\n",
        "print(type(influencer_01))"
      ]
    },
    {
      "cell_type": "code",
      "execution_count": null,
      "metadata": {
        "id": "UgQGz67umWwG"
      },
      "outputs": [],
      "source": [
        "# okay, let's parse our remaining JSON data\n",
        "influencer_02 = json.loads(json_data_string_2)"
      ]
    },
    {
      "cell_type": "code",
      "execution_count": null,
      "metadata": {
        "id": "QS_UyJvWmWwG"
      },
      "outputs": [],
      "source": [
        "# now print the parsed data to the console\n",
        "# let's just print the name\n",
        "print(influencer_02[\"name\"])"
      ]
    },
    {
      "cell_type": "code",
      "execution_count": null,
      "metadata": {
        "id": "cbtjwerQmWwG"
      },
      "outputs": [],
      "source": [
        "# and now let's  print out the details as before\n",
        "print(influencer_02[\"name\"], \"is active on\", influencer_02['social_media'], \"and has\", influencer_02[\"followers\"], \"followers.\")"
      ]
    },
    {
      "cell_type": "markdown",
      "metadata": {
        "id": "cb7reFcZmWwH"
      },
      "source": [
        "Note how you get a list for the `social_media` and `followers` variables.  There may be occasions where you need to 'drill' down even further into the JSON data to extract the information.  \n",
        "  \n",
        "As this is a list we can access an element by using its `index`. Let's say you only want to display the Facebook data.  That's the second element in the list and since lists start at zero you'll need to access the 1st element."
      ]
    },
    {
      "cell_type": "code",
      "execution_count": null,
      "metadata": {
        "id": "E8DzREmwmWwH"
      },
      "outputs": [],
      "source": [
        "# print only the name and Facebook values to the console\n",
        "print(influencer_02[\"name\"], \"is active on\", influencer_02['social_media'][1], \"and has\", influencer_02[\"followers\"][1], \"followers.\")"
      ]
    },
    {
      "cell_type": "markdown",
      "metadata": {
        "id": "Ta5Xz3hkmWwI"
      },
      "source": [
        "## **Encoding JSON Data**\n",
        "\n",
        "Just as you can parse (or decode) JSON data you can also  ***encode**  JSON data.  \n",
        "\n",
        "To encode a dictionary into a JSON encoded string you use the `dumps()` function.\n",
        "\n",
        "***dumps*** stands for ***\"dump to string\"***.\n"
      ]
    },
    {
      "cell_type": "code",
      "execution_count": null,
      "metadata": {
        "id": "oWAgHgDOmWwI"
      },
      "outputs": [],
      "source": [
        "# create the Python dictionary\n",
        "influencer_03 = { \"name\": \"Erika\", \"social_media\": [\"TikTok\", \"Instagram\"],\"followers\": [4900, 3400]}\n",
        "\n",
        "# check its type before encoding\n",
        "print(type(influencer_03))\n",
        "\n",
        "# convert it to JSON\n",
        "json_data_string_3 = json.dumps(influencer_03)\n",
        "\n",
        "# print the JSON string\n",
        "print(json_data_string_3)\n",
        "\n",
        "# check its type\n",
        "print(type(json_data_string_3))"
      ]
    },
    {
      "cell_type": "markdown",
      "metadata": {
        "id": "5jhatT8GmWwI"
      },
      "source": [
        "You can see that the daya type for our `json_data_string_3` variable is indeed a string as expected."
      ]
    },
    {
      "cell_type": "markdown",
      "metadata": {
        "id": "29swQc3WmWwI"
      },
      "source": [
        "## **Read a JSON File**\n",
        "You already used `json.loads()` to load a JSON string.  Now you are gong to use `json.load()` to load JSON file (without the sting encoding).  \n",
        "And for that you'll need to first `open` the JSON file then then load it into a variable"
      ]
    },
    {
      "cell_type": "code",
      "execution_count": null,
      "metadata": {
        "id": "MlRelnO4mWwI"
      },
      "outputs": [],
      "source": [
        "# open the JSON file and then assing its data to a variable\n",
        "# for this you will need to upload the data file to Google Colab\n",
        "# and then copy its path and put it into the open function\n",
        "\n",
        "with open('/content/phone_data.json') as json_file :\n",
        "  data = json.load(json_file)\n"
      ]
    },
    {
      "cell_type": "code",
      "execution_count": null,
      "metadata": {
        "id": "iE78gQMhpilj"
      },
      "outputs": [],
      "source": [
        "# now you can print it to the console\n",
        "print(data)"
      ]
    },
    {
      "cell_type": "markdown",
      "metadata": {
        "id": "mD-xQOBPp8V_"
      },
      "source": [
        "## **Write a JSON File**\n",
        "You already used `json.dumps()` to endode a JSON string.  Now, like loads and load , you are gong to use `json.dump()` to write JSON file (without the string encoding).  \n"
      ]
    },
    {
      "cell_type": "code",
      "execution_count": null,
      "metadata": {
        "id": "Ynor7LMlqfaO"
      },
      "outputs": [],
      "source": [
        "# let's create a Python dictiorary and populate it woth our data\n",
        "new_data = {\"brand\": \"Microsoft\", \"model\": \"Surface Laptop Go 3\", \"price\": 1286 }\n",
        "\n",
        "# nnow we can create a file and open it (the 'w' means giving write access)\n",
        "with open(\"laptop_data.json\", \"w\") as json_file:\n",
        "  # and then dump our data into it\n",
        "    json.dump(new_data, json_file)\n"
      ]
    },
    {
      "cell_type": "markdown",
      "metadata": {
        "id": "-HH_2D6esRt5"
      },
      "source": [
        "You can now go the file section and download our newly created file — laptop_data.json — and open it in a text editor (for example) to see what's inside."
      ]
    },
    {
      "cell_type": "markdown",
      "metadata": {
        "id": "LvQ0lBJJpiMm"
      },
      "source": [
        "## **Further Resources**\n",
        " Additional resources on JSON are available at:\n",
        "\n",
        "Maslauskaite, M. (2021, August). Reading & Parsing JSON Data With Python: Tutorial. Oxylabs.io. https://oxylabs.io/blog/python-parse-json\n",
        "\n",
        " Zanini, A. (2024, May 22). How to parse JSON data with Python. Bright Data. https://brightdata.com/blog/how-tos/parse-json-data-with-python\n",
        "\n"
      ]
    }
  ],
  "metadata": {
    "colab": {
      "provenance": []
    },
    "kernelspec": {
      "display_name": "Python 3",
      "language": "python",
      "name": "python3"
    },
    "language_info": {
      "codemirror_mode": {
        "name": "ipython",
        "version": 3
      },
      "file_extension": ".py",
      "mimetype": "text/x-python",
      "name": "python",
      "nbconvert_exporter": "python",
      "pygments_lexer": "ipython3",
      "version": "3.12.3"
    }
  },
  "nbformat": 4,
  "nbformat_minor": 0
}